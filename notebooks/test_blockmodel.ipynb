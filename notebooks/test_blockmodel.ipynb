{
 "cells": [
  {
   "cell_type": "code",
   "execution_count": 5,
   "metadata": {},
   "outputs": [],
   "source": [
    "import pathlib\n",
    "import math\n",
    "\n",
    "from compas.files import OBJ\n",
    "from compas.geometry import Frame, Rotation\n",
    "from compas.datastructures import Mesh\n",
    "from compas_model.model import Model\n",
    "from compas_model.elements import BlockElement\n",
    "\n",
    "filepath = pathlib.Path().home() / \"Code\" / \"compas_model\" / \"data\" / \"wall_stack.obj\"\n",
    "\n",
    "obj = OBJ(filepath)\n",
    "obj.read()\n",
    "\n",
    "meshes = []\n",
    "for name in obj.objects:  # type: ignore\n",
    "    vertices, faces = obj.objects[name]  # type: ignore\n",
    "    mesh = Mesh.from_vertices_and_faces(vertices, faces)\n",
    "    mesh.name = name\n",
    "    meshes.append(mesh)\n",
    "\n",
    "model = Model()\n",
    "\n",
    "supports = model.add_group(name=\"supports\")\n",
    "blocks = model.add_group(name=\"blocks\")\n",
    "\n",
    "block = BlockElement(shape=meshes[0], is_support=True)\n",
    "model.add_element(block, parent=supports)\n",
    "\n",
    "for mesh in meshes[1:]:\n",
    "    block = BlockElement(shape=mesh)\n",
    "    model.add_element(block, parent=blocks)\n",
    "\n",
    "R = Rotation.from_axis_and_angle(axis=[0, 0, 1], angle=math.radians(30))\n",
    "\n",
    "blocks.frame = Frame.worldXY()\n",
    "blocks.frame.transform(R)\n",
    "\n",
    "blocks.children[-1].element.transformation = R\n"
   ]
  },
  {
   "cell_type": "code",
   "execution_count": 6,
   "metadata": {},
   "outputs": [],
   "source": [
    "from compas_model.algorithms import collider\n",
    "\n",
    "interfaces = []\n",
    "for item in collider.get_collision_pairs(model, tolerance_area=0.1):\n",
    "    i, j, collisions = item\n",
    "    for faces, polygon in collisions:\n",
    "        interfaces.append(polygon)\n",
    "        model.add_interaction(model.elementlist[i], model.elementlist[j])"
   ]
  },
  {
   "cell_type": "code",
   "execution_count": 7,
   "metadata": {},
   "outputs": [
    {
     "name": "stdout",
     "output_type": "stream",
     "text": [
      "================================================================================\n",
      "Spatial Hierarchy\n",
      "================================================================================\n",
      "└── <TreeNode: root>\n",
      "    ├── <TreeNode: supports>\n",
      "    │   └── <TreeNode>\n",
      "    └── <TreeNode: blocks>\n",
      "        ├── <TreeNode>\n",
      "        ├── <TreeNode>\n",
      "        ├── <TreeNode>\n",
      "        ├── <TreeNode>\n",
      "        └── <TreeNode>\n",
      "================================================================================\n",
      "Element Interactions\n",
      "================================================================================\n",
      "0\n",
      "- 1: None\n",
      "1\n",
      "- 0: None\n",
      "- 2: None\n",
      "2\n",
      "- 1: None\n",
      "- 3: None\n",
      "3\n",
      "- 2: None\n",
      "- 4: None\n",
      "4\n",
      "- 3: None\n",
      "- 5: None\n",
      "5\n",
      "- 4: None\n",
      "================================================================================\n",
      "Element Groups\n",
      "================================================================================\n",
      "n/a\n",
      "================================================================================\n"
     ]
    }
   ],
   "source": [
    "model.print()"
   ]
  },
  {
   "cell_type": "code",
   "execution_count": 8,
   "metadata": {},
   "outputs": [
    {
     "data": {
      "application/vnd.jupyter.widget-view+json": {
       "model_id": "d380864f502f44af9d5f5f6a5f9a403b",
       "version_major": 2,
       "version_minor": 0
      },
      "text/plain": [
       "VBox(children=(HBox(children=(Button(icon='folder-open', layout=Layout(height='32px', width='48px'), style=But…"
      ]
     },
     "metadata": {},
     "output_type": "display_data"
    }
   ],
   "source": [
    "from compas_notebook.viewer import Viewer\n",
    "from compas.colors import Color\n",
    "\n",
    "viewer = Viewer()\n",
    "\n",
    "viewer.scene.add(model,\n",
    "    show_elements=True,\n",
    "    show_element_faces=False,\n",
    "    show_faces=False,\n",
    "    show_edges=True,\n",
    "    show_vertices=True,\n",
    "    vertexsize=0.1\n",
    ")\n",
    "\n",
    "# for element in model.elementlist:\n",
    "#     viewer.scene.add(element, color=Color.from_hex('#cccccc'), show_faces=False, show_edges=True)\n",
    "\n",
    "for polygon in interfaces:\n",
    "    viewer.scene.add(polygon, color=Color.red())\n",
    "\n",
    "viewer.show()"
   ]
  },
  {
   "cell_type": "code",
   "execution_count": null,
   "metadata": {},
   "outputs": [],
   "source": []
  }
 ],
 "metadata": {
  "kernelspec": {
   "display_name": "compas-dev",
   "language": "python",
   "name": "python3"
  },
  "language_info": {
   "codemirror_mode": {
    "name": "ipython",
    "version": 3
   },
   "file_extension": ".py",
   "mimetype": "text/x-python",
   "name": "python",
   "nbconvert_exporter": "python",
   "pygments_lexer": "ipython3",
   "version": "3.9.10"
  }
 },
 "nbformat": 4,
 "nbformat_minor": 2
}
