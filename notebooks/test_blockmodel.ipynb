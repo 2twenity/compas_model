{
 "cells": [
  {
   "cell_type": "code",
   "execution_count": 1,
   "metadata": {},
   "outputs": [],
   "source": [
    "import math\n",
    "import pathlib\n",
    "\n",
    "from compas.datastructures import Mesh\n",
    "from compas.files import OBJ\n",
    "from compas.geometry import Frame\n",
    "from compas.geometry import Rotation\n",
    "from compas_model.elements import BlockElement\n",
    "from compas_model.models import Model\n",
    "\n",
    "filepath = pathlib.Path().home() / \"Code\" / \"compas_model\" / \"data\" / \"wall_stack.obj\"\n",
    "\n",
    "obj = OBJ(filepath)\n",
    "obj.read()\n",
    "\n",
    "meshes = []\n",
    "for name in obj.objects:  # type: ignore\n",
    "    vertices, faces = obj.objects[name]  # type: ignore\n",
    "    mesh = Mesh.from_vertices_and_faces(vertices, faces)\n",
    "    mesh.name = name\n",
    "    meshes.append(mesh)\n",
    "\n",
    "model = Model()\n",
    "\n",
    "supports = model.add_group(name=\"supports\")\n",
    "blocks = model.add_group(name=\"blocks\")\n",
    "\n",
    "block = BlockElement(shape=meshes[0], is_support=True)\n",
    "model.add_element(block, parent=supports)\n",
    "\n",
    "for mesh in meshes[1:]:\n",
    "    block = BlockElement(shape=mesh)\n",
    "    model.add_element(block, parent=blocks)\n",
    "\n",
    "R = Rotation.from_axis_and_angle(axis=[0, 0, 1], angle=math.radians(30))\n",
    "\n",
    "blocks.frame = Frame.worldXY()\n",
    "blocks.frame.transform(R)\n",
    "\n",
    "blocks.children[-1].element.transformation = R\n"
   ]
  },
  {
   "cell_type": "code",
   "execution_count": 2,
   "metadata": {},
   "outputs": [],
   "source": [
    "from compas_model.algorithms import get_collision_pairs\n",
    "\n",
    "elements = list(model.elements())\n",
    "interfaces = []\n",
    "for item in get_collision_pairs(model, tolerance_area=0.1):\n",
    "    i, j, collisions = item\n",
    "    for faces, polygon in collisions:\n",
    "        interfaces.append(polygon)\n",
    "        model.add_interaction(elements[i], elements[j])"
   ]
  },
  {
   "cell_type": "code",
   "execution_count": 3,
   "metadata": {},
   "outputs": [
    {
     "name": "stdout",
     "output_type": "stream",
     "text": [
      "================================================================================\n",
      "Spatial Hierarchy\n",
      "================================================================================\n",
      "<Tree with 9 nodes>\n",
      "================================================================================\n",
      "Element Interactions\n",
      "================================================================================\n",
      "<Graph with 6 nodes, 5 edges>\n",
      "0\n",
      "- 1: None\n",
      "1\n",
      "- 0: None\n",
      "- 2: None\n",
      "2\n",
      "- 1: None\n",
      "- 3: None\n",
      "3\n",
      "- 2: None\n",
      "- 4: None\n",
      "4\n",
      "- 3: None\n",
      "- 5: None\n",
      "5\n",
      "- 4: None\n",
      "\n",
      "================================================================================\n",
      "Element Groups\n",
      "================================================================================\n",
      "n/a\n",
      "================================================================================\n",
      "\n"
     ]
    }
   ],
   "source": [
    "print(model)"
   ]
  },
  {
   "cell_type": "code",
   "execution_count": 4,
   "metadata": {},
   "outputs": [
    {
     "name": "stdout",
     "output_type": "stream",
     "text": [
      "PyThreeJS Model elements registered.\n",
      "PyThreeJS SceneObjects registered.\n",
      "TNA Notebook SceneObjects registered.\n"
     ]
    },
    {
     "data": {
      "application/vnd.jupyter.widget-view+json": {
       "model_id": "da84f35b373a43c8b321b84a2d056fea",
       "version_major": 2,
       "version_minor": 0
      },
      "text/plain": [
       "VBox(children=(HBox(children=(Button(icon='search-plus', layout=Layout(height='32px', width='48px'), style=But…"
      ]
     },
     "metadata": {},
     "output_type": "display_data"
    }
   ],
   "source": [
    "from compas.colors import Color\n",
    "from compas_notebook.viewer import Viewer\n",
    "\n",
    "viewer = Viewer()\n",
    "\n",
    "viewer.scene.add(model,\n",
    "    show_elements=True,\n",
    "    show_element_faces=False,\n",
    "    show_faces=False,\n",
    "    show_edges=True,\n",
    "    show_vertices=True,\n",
    "    vertexsize=0.1\n",
    ")\n",
    "\n",
    "# for element in model.elements():\n",
    "#     viewer.scene.add(element.geometry, color=Color.from_hex('#cccccc'), show_faces=False, show_edges=True)\n",
    "\n",
    "# for polygon in interfaces:\n",
    "#     viewer.scene.add(polygon, color=Color.red())\n",
    "\n",
    "viewer.show()"
   ]
  },
  {
   "cell_type": "code",
   "execution_count": null,
   "metadata": {},
   "outputs": [],
   "source": []
  }
 ],
 "metadata": {
  "kernelspec": {
   "display_name": "compas-dev",
   "language": "python",
   "name": "python3"
  },
  "language_info": {
   "codemirror_mode": {
    "name": "ipython",
    "version": 3
   },
   "file_extension": ".py",
   "mimetype": "text/x-python",
   "name": "python",
   "nbconvert_exporter": "python",
   "pygments_lexer": "ipython3",
   "version": "3.9.10"
  }
 },
 "nbformat": 4,
 "nbformat_minor": 2
}
