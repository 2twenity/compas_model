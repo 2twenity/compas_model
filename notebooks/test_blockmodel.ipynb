{
 "cells": [
  {
   "cell_type": "code",
   "execution_count": 1,
   "metadata": {},
   "outputs": [],
   "source": [
    "import pathlib\n",
    "\n",
    "from compas.files import OBJ\n",
    "from compas.datastructures import Mesh\n",
    "from compas_model.model import Model\n",
    "from compas_model.elements import BlockElement\n",
    "\n",
    "filepath = pathlib.Path().home() / \"Code\" / \"compas_model\" / \"data\" / \"cross_vault.obj\"\n",
    "obj = OBJ(filepath)\n",
    "obj.read()\n",
    "\n",
    "meshes = []\n",
    "for name in obj.objects:  # type: ignore\n",
    "    vertices, faces = obj.objects[name]  # type: ignore\n",
    "    mesh = Mesh.from_vertices_and_faces(vertices, faces)\n",
    "    mesh.name = name\n",
    "    meshes.append(mesh)\n",
    "\n",
    "model = Model()\n",
    "\n",
    "for mesh in meshes:\n",
    "    block = BlockElement(shape=mesh)\n",
    "    model.add_element(block)\n"
   ]
  },
  {
   "cell_type": "code",
   "execution_count": 5,
   "metadata": {},
   "outputs": [
    {
     "data": {
      "application/vnd.jupyter.widget-view+json": {
       "model_id": "64bc0404508643f09c3633d7e4e1194b",
       "version_major": 2,
       "version_minor": 0
      },
      "text/plain": [
       "VBox(children=(HBox(children=(Button(icon='folder-open', layout=Layout(height='32px', width='48px'), style=But…"
      ]
     },
     "metadata": {},
     "output_type": "display_data"
    }
   ],
   "source": [
    "from compas_notebook.viewer import Viewer\n",
    "from compas.colors import Color\n",
    "\n",
    "viewer = Viewer()\n",
    "for block in model.elementlist:\n",
    "    viewer.scene.add(block, color=Color.from_hex('#cccccc'), show_edges=True)\n",
    "viewer.show()"
   ]
  },
  {
   "cell_type": "code",
   "execution_count": null,
   "metadata": {},
   "outputs": [],
   "source": []
  }
 ],
 "metadata": {
  "kernelspec": {
   "display_name": "compas-dev",
   "language": "python",
   "name": "python3"
  },
  "language_info": {
   "codemirror_mode": {
    "name": "ipython",
    "version": 3
   },
   "file_extension": ".py",
   "mimetype": "text/x-python",
   "name": "python",
   "nbconvert_exporter": "python",
   "pygments_lexer": "ipython3",
   "version": "3.9.10"
  }
 },
 "nbformat": 4,
 "nbformat_minor": 2
}
